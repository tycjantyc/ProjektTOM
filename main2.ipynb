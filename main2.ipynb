{
 "cells": [
  {
   "cell_type": "code",
   "execution_count": 1,
   "metadata": {},
   "outputs": [],
   "source": [
    "import torch as tc\n",
    "import torch.nn as nn\n",
    "from torch import Tensor\n",
    "import pandas as pd\n",
    "import numpy as np\n",
    "import os\n",
    "from skimage import io\n",
    "import matplotlib.pyplot as plt\n",
    "import cv2 \n",
    "import torchvision"
   ]
  },
  {
   "cell_type": "code",
   "execution_count": 2,
   "metadata": {},
   "outputs": [],
   "source": [
    "path_to_dataset = r'DATA' # Path to the downloaded and unzipped dataset\n",
    "\n",
    "class OurDataset(tc.utils.data.Dataset):\n",
    "    def __init__(self, dataset_path : str, mode : str=\"training\"):\n",
    "        self.dataset_path = dataset_path\n",
    "        self.mode = mode # \"training\" or \"testing\"\n",
    "\n",
    "        if self.mode == \"training\":\n",
    "            self.data_path = os.path.join(self.dataset_path, \"training\")\n",
    "        elif self.mode == \"testing\":\n",
    "            self.data_path = os.path.join(self.dataset_path, \"test\")\n",
    "        else:\n",
    "            raise ValueError(\"Unsupported mode.\")\n",
    "\n",
    "        self.classes = os.listdir(self.data_path)\n",
    "        print(f\"Available classes: {self.classes}\")\n",
    "        self.classes_dict = {self.classes[i]: i for i in range(len(self.classes))}\n",
    "        print(f\"Classes dict: {self.classes_dict}\")\n",
    "\n",
    "        self.cases = []\n",
    "        for current_class in self.classes:\n",
    "            for current_case in os.listdir(os.path.join(self.data_path, current_class)):\n",
    "                case_path = os.path.join(self.data_path, current_class, current_case)\n",
    "                self.cases.append((case_path, self.classes_dict[current_class]))\n",
    "\n",
    "    def __len__(self):\n",
    "        return len(self.cases)\n",
    "        \n",
    "\n",
    "    def __getitem__(self, idx):\n",
    "\n",
    "        dim1, dim2 = 224, 224\n",
    "        current_case = self.cases[idx]\n",
    "        current_path = current_case[0]\n",
    "        current_class = current_case[1]\n",
    "        current_image = io.imread(current_path)  \n",
    "        current_image = np.repeat(current_image[..., np.newaxis], 3, -1)\n",
    "        def rgb2gray(rgb):\n",
    "          return np.dot(rgb[...,:3], [0.2989, 0.5870, 0.1140])\n",
    "        #current_image = rgb2gray(current_image)\n",
    "        current_image = cv2.resize(current_image, (dim1, dim2), interpolation = cv2.INTER_AREA)    \n",
    "        current_image = current_image.reshape(3,dim1, dim2)\n",
    "        current_image = current_image.astype(np.float32)\n",
    "        current_image = current_image/255.0\n",
    "    \n",
    "        return current_image, current_class"
   ]
  },
  {
   "cell_type": "code",
   "execution_count": 3,
   "metadata": {},
   "outputs": [
    {
     "name": "stdout",
     "output_type": "stream",
     "text": [
      "Available classes: ['Homm', 'No_homm']\n",
      "Classes dict: {'Homm': 0, 'No_homm': 1}\n",
      "Available classes: ['Homm', 'No_homm']\n",
      "Classes dict: {'Homm': 0, 'No_homm': 1}\n"
     ]
    }
   ],
   "source": [
    "training_dataset = OurDataset(path_to_dataset, \"training\") # Utworzenie zbioru treningowego\n",
    "testing_dataset = OurDataset(path_to_dataset, \"testing\") # Utworzenie zbioru testowego\n",
    "batch_size = 16 # Okreslenie ile przypadkow ma byc naraz wczytywane i procesowane -> istotny hyperparameter w trakcie treningu\n",
    "shuffle = True # Czy przypadki w każdej epocje mają być wczytywane losowo. Epoka - każdorazowe przeiterowanie przez cały zbiór treningowy\n",
    "training_dataloader = tc.utils.data.DataLoader(training_dataset, batch_size=batch_size, shuffle=shuffle)\n",
    "testing_dataloader = tc.utils.data.DataLoader(testing_dataset, batch_size=1, shuffle=False)"
   ]
  },
  {
   "cell_type": "code",
   "execution_count": 10,
   "metadata": {},
   "outputs": [],
   "source": [
    "class FirstModel(tc.nn.Module):\n",
    "    def __init__(self):\n",
    "        super(FirstModel, self).__init__()\n",
    "\n",
    "        self.model = torchvision.models.densenet121(weights='DEFAULT')\n",
    "\n",
    "        ct = 0\n",
    "        for child in self.model.children():\n",
    "            ct = ct + 1\n",
    "            print(ct)\n",
    "            if ct < 2:\n",
    "                for param in child.parameters():\n",
    "                    param.requires_grad = False\n",
    "            \n",
    "        self.layer_1 = tc.nn.Sequential(\n",
    "            tc.nn.Linear(1000, 64),\n",
    "            tc.nn.Sigmoid()\n",
    "        ) \n",
    "        self.layer_2 = tc.nn.Sequential(\n",
    "            tc.nn.Linear(64, 2)\n",
    "        )\n",
    "        \n",
    "\n",
    "    def forward(self, x): \n",
    "        x = self.model(x)\n",
    "        x = self.layer_1(x)\n",
    "        x = self.layer_2(x)\n",
    "        return x"
   ]
  },
  {
   "cell_type": "code",
   "execution_count": 11,
   "metadata": {},
   "outputs": [
    {
     "name": "stdout",
     "output_type": "stream",
     "text": [
      "1\n",
      "2\n",
      "Available classes: ['Homm', 'No_homm']\n",
      "Classes dict: {'Homm': 0, 'No_homm': 1}\n",
      "Available classes: ['Homm', 'No_homm']\n",
      "Classes dict: {'Homm': 0, 'No_homm': 1}\n"
     ]
    }
   ],
   "source": [
    "#learning_rate = 0.005 # Współczynnik uczenia, definiuje szybkość treningu, zbyt duży prowadzi do niestabilności, zbyt niski do wolnego uczenia\n",
    "batch_size = 32 # Liczba obrazów analizowanych w zadanym momencie - większa wartość prowadzi do lepszego wykorzystania GPU, jednak może powodować większy potencjał do wpadania w minima lokalne\n",
    "num_epochs = 10 # Liczba iteracji przez cały zbiór treningowy\n",
    "objective_function = tc.nn.CrossEntropyLoss() # Funkcja kosztu, która będzie minimalizowana\n",
    "model = FirstModel()\n",
    "#model.load_state_dict(tc.load('densenet_start.pt'))\n",
    "#model.eval()\n",
    "parameters = model.parameters()\n",
    "#parameters = \n",
    "#optimizer = tc.optim.Adam(parameters, lr=learning_rate) # Utworzenie obiektu optymalizatora -> w tym przypadku Adam (najpopularniejszy), w uproszczeniu - bardziej zaawansowany wariant spadku gradientowego\n",
    "optimizer = tc.optim.SGD(model.parameters(), lr=0.01, weight_decay=0.01, momentum=0.7)\n",
    "device = \"cuda:0\" # Urządzenie, na którym będzie prowadzony trening, użyjmy karty graficznej, ew. zmienić na \"cpu\" w przypadku jej braku. Karty graficzne są dostępnę na Google Colaboratory\n",
    "\n",
    "training_dataset = OurDataset(path_to_dataset, \"training\")\n",
    "test_dataset = OurDataset(path_to_dataset, \"testing\")\n",
    "shuffle = True \n",
    "training_dataloader = tc.utils.data.DataLoader(training_dataset, batch_size=batch_size, shuffle=shuffle)\n",
    "test_dataloader = tc.utils.data.DataLoader(test_dataset, batch_size=batch_size, shuffle=False)\n",
    "\n",
    "os.environ['CUDA_LAUNCH_BLOCKING'] = \"1\""
   ]
  },
  {
   "cell_type": "code",
   "execution_count": 12,
   "metadata": {},
   "outputs": [
    {
     "name": "stdout",
     "output_type": "stream",
     "text": [
      "Output: tensor([[0.5647, 0.5922],\n",
      "        [0.5136, 0.5656],\n",
      "        [0.5359, 0.5936],\n",
      "        [0.5096, 0.5682],\n",
      "        [0.4981, 0.5739],\n",
      "        [0.4966, 0.5928],\n",
      "        [0.5375, 0.5847],\n",
      "        [0.5134, 0.5922],\n",
      "        [0.4958, 0.5661],\n",
      "        [0.5076, 0.5572],\n",
      "        [0.5396, 0.5939],\n",
      "        [0.5093, 0.5457],\n",
      "        [0.5509, 0.5683],\n",
      "        [0.5022, 0.5412],\n",
      "        [0.5399, 0.5579],\n",
      "        [0.5330, 0.5928],\n",
      "        [0.5388, 0.5311],\n",
      "        [0.5330, 0.6031],\n",
      "        [0.4955, 0.5442],\n",
      "        [0.5120, 0.5858],\n",
      "        [0.5217, 0.5561],\n",
      "        [0.5506, 0.6142],\n",
      "        [0.5100, 0.5722],\n",
      "        [0.4886, 0.5417],\n",
      "        [0.5430, 0.5797],\n",
      "        [0.5107, 0.5470],\n",
      "        [0.5310, 0.6002],\n",
      "        [0.5445, 0.5785],\n",
      "        [0.5196, 0.5991],\n",
      "        [0.4849, 0.5788],\n",
      "        [0.5423, 0.5647],\n",
      "        [0.5165, 0.5795]], grad_fn=<SigmoidBackward0>)\n"
     ]
    }
   ],
   "source": [
    "for images, classes in training_dataloader:\n",
    "    output = model(images) # <- Kluczowa linijka kodu, wywołanie funkcji **forward** z klasy SimpleNetwork\n",
    "    print(f\"Output: {tc.nn.Sigmoid()(output)}\") # <- w praktyce Sigmoid w celu wyznaczania prawdopodobieństwa umieszcza się poza siecią neuronową\n",
    "    break"
   ]
  },
  {
   "cell_type": "code",
   "execution_count": 26,
   "metadata": {},
   "outputs": [
    {
     "name": "stdout",
     "output_type": "stream",
     "text": [
      "Dataset size: 2361\n",
      "Current epoch: 0\n",
      "Current epoch loss: 0.5102561803022616\n",
      "Current epoch loss: 0.5102561803022616   Current validation loss: 0.7085223036735803\n",
      "Current epoch: 1\n",
      "Current epoch loss: 0.5099403310483515\n",
      "Current epoch loss: 0.5099403310483515   Current validation loss: 0.7168125438570777\n",
      "Current epoch: 2\n",
      "Current epoch loss: 0.511551376648345\n",
      "Current epoch loss: 0.511551376648345   Current validation loss: 0.70418392318318\n",
      "Current epoch: 3\n",
      "Current epoch loss: 0.5069968048317459\n",
      "Current epoch loss: 0.5069968048317459   Current validation loss: 0.7106860477060627\n",
      "Current epoch: 4\n",
      "Current epoch loss: 0.5094202791215605\n",
      "Current epoch loss: 0.5094202791215605   Current validation loss: 0.7169559806933586\n",
      "Current epoch: 5\n",
      "Current epoch loss: 0.5064131887673019\n",
      "Current epoch loss: 0.5064131887673019   Current validation loss: 0.7149750379369733\n",
      "Current epoch: 6\n",
      "Current epoch loss: 0.504473367140284\n",
      "Current epoch loss: 0.504473367140284   Current validation loss: 0.7081503067072326\n",
      "Current epoch: 7\n",
      "Current epoch loss: 0.5004487324700119\n",
      "Current epoch loss: 0.5004487324700119   Current validation loss: 0.7196137040405719\n",
      "Current epoch: 8\n",
      "Current epoch loss: 0.5034062020963453\n",
      "Current epoch loss: 0.5034062020963453   Current validation loss: 0.7126271412249201\n",
      "Current epoch: 9\n",
      "Current epoch loss: 0.5059772996466223\n",
      "Current epoch loss: 0.5059772996466223   Current validation loss: 0.7110825188967939\n",
      "0.7110825188967939\n"
     ]
    },
    {
     "data": {
      "image/png": "[encoded data removed]",
      "text/plain": [
       "<Figure size 640x480 with 1 Axes>"
      ]
     },
     "metadata": {},
     "output_type": "display_data"
    }
   ],
   "source": [
    "import torch.optim as optim\n",
    "losses = []\n",
    "val_losses = []\n",
    "#optimizer = optim.Adam(model.parameters(), lr=0.001)\n",
    "loss_cen = tc.nn.CrossEntropyLoss()\n",
    "\n",
    "#loss_cen = tc.nn.BCEWithLogitsLoss()\n",
    "model = model.to(device) # Transfer sieci do pamięci urządzenia (np. GPU)\n",
    "\n",
    "model.train()\n",
    "print(f\"Dataset size: {len(training_dataloader.dataset)}\")\n",
    "for epoch in range(num_epochs):\n",
    "    print(f\"Current epoch: {epoch}\")\n",
    "    epoch_loss = 0.0\n",
    "    number = 0\n",
    "    for images, classes in training_dataloader:\n",
    "        images, classes = images.to(device), classes.to(device) # Transfer obrazów do pamięci urządzenia (np. GPU)\n",
    "        output = model(images) # Przejście obrazów przez model\n",
    "        loss = loss_cen(tc.nn.Sigmoid()(output), classes)# - wyznacz aktualna funkcje kosztu\n",
    "        loss.backward() # - dokonaj backpropagacji gradientu wykorzystując wyznaczona wartosc kosztu\n",
    "        optimizer.step()  # TODO - dokonaj aktualizacji optymalizatora\n",
    "        optimizer.zero_grad()\n",
    "        pass # TODO - wyzeruj historie gradientu w optymalizatorze\n",
    "        epoch_loss += loss.item() * images.size(0)\n",
    "\n",
    "        #print(number)\n",
    "        number = number+1\n",
    "    epoch_loss = epoch_loss / len(training_dataloader.dataset)\n",
    "    losses.append(epoch_loss)\n",
    "    threshold  = 1.0\n",
    "    val_loss = 0.0\n",
    "    number = 0\n",
    "    print(f\"Current epoch loss: {epoch_loss}\")\n",
    "    yes = True\n",
    "    if yes:\n",
    "        for images, classes in test_dataloader:\n",
    "            images, classes = images.to(device), classes.to(device) # Transfer obrazów do pamięci urządzenia (np. GPU)\n",
    "            output = model(images) # Przejście obrazów przez model\n",
    "            loss = loss_cen(tc.nn.Sigmoid()(output), classes)# - wyznacz aktualna funkcje kosztu\n",
    "            val_loss += loss.item() * images.size(0)\n",
    "            #print(number)\n",
    "            number = number+1\n",
    "        val_loss = val_loss / len(test_dataloader.dataset)\n",
    "        val_losses.append(val_loss)\n",
    "    print(f\"Current epoch loss: {epoch_loss}   Current validation loss: {val_loss}\")\n",
    "    \n",
    "    if val_loss<threshold:\n",
    "        threshold = val_loss\n",
    "        tc.save(model.state_dict(), 'densenet_start.pt')\n",
    "    \n",
    "\n",
    "    \n",
    "\n",
    "\n",
    "# Wizualizacja pętli treningowej\n",
    "print(threshold)\n",
    "plt.figure()\n",
    "plt.plot(losses, \"r-\")\n",
    "plt.plot(val_losses, 'g--')\n",
    "plt.xlabel(\"Epoch\")\n",
    "plt.ylabel(\"Loss\")\n",
    "plt.grid(True)\n",
    "plt.show()"
   ]
  },
  {
   "cell_type": "code",
   "execution_count": 27,
   "metadata": {},
   "outputs": [
    {
     "name": "stdout",
     "output_type": "stream",
     "text": [
      "Dataset size: 2361\n",
      "Accuracy = 0.8403218975010589\n",
      "Recall = 0.8204936424831712\n"
     ]
    },
    {
     "data": {
      "text/plain": [
       "<Axes: >"
      ]
     },
     "execution_count": 27,
     "metadata": {},
     "output_type": "execute_result"
    },
    {
     "data": {
      "image/png": "[encoded data removed]",
      "text/plain": [
       "<Figure size 640x480 with 2 Axes>"
      ]
     },
     "metadata": {},
     "output_type": "display_data"
    }
   ],
   "source": [
    "import sklearn.metrics as metrics\n",
    "from torch import Tensor\n",
    "import seaborn as sns\n",
    "\n",
    "predictions = []\n",
    "targets = []\n",
    "model.eval()\n",
    "with tc.set_grad_enabled(False):\n",
    "    print(f\"Dataset size: {len(training_dataloader.dataset)}\")\n",
    "    for images, classes in training_dataloader:\n",
    "        images, classes = images.to(device), classes.to(device)\n",
    "        output = model(images)\n",
    "        prediction = tc.argmax(tc.nn.Sigmoid()(output), dim=1)\n",
    "        predictions.append(Tensor.cpu(prediction))\n",
    "        targets.append(Tensor.cpu(classes))\n",
    "\n",
    "pred = []\n",
    "targ = []      \n",
    "for i,j  in zip(predictions, targets):\n",
    "  for a, b in zip(i, j):\n",
    "    pred.append(a)\n",
    "    targ.append(b)\n",
    "\n",
    "\n",
    "\n",
    "\n",
    "cf_matrix = metrics.confusion_matrix(targ, pred)\n",
    "print(\"Accuracy = \" + str(metrics.accuracy_score(targ, pred)))\n",
    "print(\"Recall = \" + str(metrics.recall_score(targ, pred)))\n",
    "\n",
    "\n",
    "sns.heatmap(cf_matrix, annot=True)"
   ]
  },
  {
   "cell_type": "code",
   "execution_count": 28,
   "metadata": {},
   "outputs": [
    {
     "name": "stdout",
     "output_type": "stream",
     "text": [
      "Dataset size: 599\n",
      "Accuracy = 0.7779632721202003\n",
      "Recall = 0.7830985915492957\n"
     ]
    },
    {
     "data": {
      "text/plain": [
       "<Axes: >"
      ]
     },
     "execution_count": 28,
     "metadata": {},
     "output_type": "execute_result"
    },
    {
     "data": {
      "image/png": "[encoded data removed]",
      "text/plain": [
       "<Figure size 640x480 with 2 Axes>"
      ]
     },
     "metadata": {},
     "output_type": "display_data"
    }
   ],
   "source": [
    "predictions = []\n",
    "targets = []\n",
    "model.eval()\n",
    "with tc.set_grad_enabled(False):\n",
    "    print(f\"Dataset size: {len(testing_dataloader.dataset)}\")\n",
    "    for images, classes in testing_dataloader:\n",
    "        images, classes = images.to(device), classes.to(device)\n",
    "        output = model(images)\n",
    "        prediction = tc.argmax(tc.nn.Sigmoid()(output), dim=1)\n",
    "        predictions.append(Tensor.cpu(prediction))\n",
    "        targets.append(Tensor.cpu(classes))\n",
    "\n",
    "pred = []\n",
    "targ = []      \n",
    "for i,j  in zip(predictions, targets):\n",
    "  for a, b in zip(i, j):\n",
    "    pred.append(a)\n",
    "    targ.append(b)\n",
    "\n",
    "\n",
    "\n",
    "\n",
    "cf_matrix = metrics.confusion_matrix(targ, pred)\n",
    "print(\"Accuracy = \" + str(metrics.accuracy_score(targ, pred)))\n",
    "print(\"Recall = \" + str(metrics.recall_score(targ, pred)))\n",
    "\n",
    "sns.heatmap(cf_matrix, annot=True)"
   ]
  },
  {
   "cell_type": "code",
   "execution_count": 18,
   "metadata": {},
   "outputs": [],
   "source": [
    "tc.save(model.state_dict(), 'densenet_start.pt')"
   ]
  }
 ],
 "metadata": {
  "kernelspec": {
   "display_name": "Python 3",
   "language": "python",
   "name": "python3"
  },
  "language_info": {
   "codemirror_mode": {
    "name": "ipython",
    "version": 3
   },
   "file_extension": ".py",
   "mimetype": "text/x-python",
   "name": "python",
   "nbconvert_exporter": "python",
   "pygments_lexer": "ipython3",
   "version": "3.10.11"
  },
  "orig_nbformat": 4
 },
 "nbformat": 4,
 "nbformat_minor": 2
}
